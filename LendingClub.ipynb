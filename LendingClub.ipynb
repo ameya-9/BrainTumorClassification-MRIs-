{
  "cells": [
    {
      "cell_type": "markdown",
      "metadata": {
        "id": "view-in-github",
        "colab_type": "text"
      },
      "source": [
        "<a href=\"https://colab.research.google.com/github/ameya-9/BrainTumorClassification-MRIs-/blob/main/LendingClub.ipynb\" target=\"_parent\"><img src=\"https://colab.research.google.com/assets/colab-badge.svg\" alt=\"Open In Colab\"/></a>"
      ]
    },
    {
      "cell_type": "code",
      "execution_count": 7,
      "metadata": {
        "id": "e38de8b1"
      },
      "outputs": [],
      "source": [
        "import pandas as pd\n",
        "import numpy as np \n",
        "import matplotlib\n",
        "import matplotlib.pyplot as plt\n",
        "import seaborn as sns"
      ],
      "id": "e38de8b1"
    },
    {
      "cell_type": "markdown",
      "metadata": {
        "id": "4636083e"
      },
      "source": [
        "## Understanding the Data and Source:\n",
        "Before actually diving into the dataset and python code to explore, let's understand the context and background source of the dataset.\n",
        "1. The data is from Lending Club. This company lends variaous loans to urban customers. \n",
        "2. The dataset is divided into Accepted or Loan Accepted and Rejected for Loan Rejected data.\n",
        "3. Accepted data has 3 scenerios: \n",
        "  1. Full Paid : Loan amount has completely being paid both prinicple and interest\n",
        "  2. Current: The process of paying is in progress, loan is not yet completed.\n",
        "  3. Charged-off: Applicant not paid amount (defaulted)"
      ],
      "id": "4636083e"
    },
    {
      "cell_type": "code",
      "execution_count": 46,
      "metadata": {
        "id": "ZhALoFA5SHaK"
      },
      "outputs": [],
      "source": [
        "def clean(data):\n",
        "      print(\"Shapes of the data\"+str(data.shape))\n",
        "      data_without_msng_val = pd.DataFrame()\n",
        "      #Replacing NAN values : \n",
        "      data_without_msng_val = data.replace(r'^\\s*$', np.nan, regex=True)\n",
        "      # Deleting columns with more than 30% missing values\n",
        "      missing = round(100*(data.isnull().sum()/len(data.index)), 2)\n",
        "      data_without_msng_val = data_without_msng_val.drop(list(missing[missing >= 30].index),axis=1)\n",
        "      \n",
        "      print(\"Data without missing values shape is \"+ str(data_without_msng_val.shape))\n",
        "      print(\"Let's check the data types\")\n",
        "      print(\"Column/Feature    Unique Values count     Datatype\")\n",
        "      for i in data_without_msng_val.columns:\n",
        "        data_without_msng_val = data_without_msng_val.drop(list(data_without_msng_val[data_without_msng_val[i] == ''].index),axis = 1)\n",
        "        print(i,len(data_without_msng_val[i].unique()),data_without_msng_val[i].dtypes,sep=' ')\n",
        "      return data_without_msng_val\n",
        "      "
      ],
      "id": "ZhALoFA5SHaK"
    },
    {
      "cell_type": "code",
      "execution_count": 126,
      "metadata": {
        "id": "LPYSeAvUSSYW"
      },
      "outputs": [],
      "source": [
        "def analysis(data):\n",
        "      print(\"Data top 5 rows\"+str(data.head(5)))\n",
        "      print(\"Data top 5 rows\"+str(data.describe().T))\n"
      ],
      "id": "LPYSeAvUSSYW"
    },
    {
      "cell_type": "code",
      "source": [
        "def categorical_pieplot(df, arr):\n",
        "    for idx, val in enumerate(arr, start=1):\n",
        "        ax = df.groupby(val).loan_amnt.count().plot.pie(colors=sns.color_palette(\"pastel\", 16))\n",
        "        plt.title(str(arr))\n",
        "        plt.show()\n",
        "\n"
      ],
      "metadata": {
        "id": "Vrlh4C9WjMRU"
      },
      "id": "Vrlh4C9WjMRU",
      "execution_count": 127,
      "outputs": []
    },
    {
      "cell_type": "code",
      "source": [
        "# This method plots a distribution of target column, and its boxplot against loan_status column\n",
        "def boxplot_distributionplot(dataframe, col):\n",
        "    plt.figure(figsize=(25,10))\n",
        "    plt.subplot(1, 2, 1)\n",
        "    ax = sns.histplot(dataframe[col])\n",
        "    plt.subplot(1, 2, 2)\n",
        "    sns.boxplot(x=dataframe[col], y=dataframe['loan_status'], data=dataframe)\n",
        "    plt.show()\n"
      ],
      "metadata": {
        "id": "w0VZ5oc9wkMl"
      },
      "id": "w0VZ5oc9wkMl",
      "execution_count": 91,
      "outputs": []
    },
    {
      "cell_type": "code",
      "source": [
        "# This method prints two plots side by side \n",
        "# Left one is percentage of a categorical variable in the entire dataset \n",
        "# Right is the current number of loans\n",
        "def plot_percentages(data, feature, sortbyindex=False):\n",
        "    plt.subplot(1, 2, 1)\n",
        "    values = (data[feature].value_counts(normalize=True)*100)\n",
        "    if sortbyindex:\n",
        "        values = values.sort_index()\n",
        "    ax = values.plot.bar(color=sns.color_palette('pastel', 16))\n",
        "    ax.set_ylabel('% in dataset', fontsize=16)\n",
        "    ax.set_xlabel(feature, fontsize=12)\n",
        "\n",
        "    plt.subplot(1, 2, 2)\n",
        "    #ax = master_loan.groupby('loan_status')['term'].value_counts(normalize=True).loc[:'Charged Off'].plot.bar(color=sns.color_palette('husl', 16))\n",
        "    values = (data.loc[data['loan_status']=='current'][feature].value_counts(normalize=True)*100)\n",
        "    if sortbyindex:\n",
        "        values = values.sort_index()\n",
        "    ax = values.plot.bar(color=sns.color_palette('pastel', 16))\n",
        "    ax.set_ylabel('% in Current loans', fontsize=16)"
      ],
      "metadata": {
        "id": "BwULtblVp5sx"
      },
      "id": "BwULtblVp5sx",
      "execution_count": 121,
      "outputs": []
    },
    {
      "cell_type": "code",
      "execution_count": 12,
      "metadata": {
        "colab": {
          "base_uri": "https://localhost:8080/",
          "height": 392
        },
        "id": "715fd9cf",
        "outputId": "0e831059-b7c9-4ca2-c88e-79f4bcbf70a3"
      },
      "outputs": [
        {
          "output_type": "stream",
          "name": "stderr",
          "text": [
            "/usr/local/lib/python3.7/dist-packages/IPython/core/interactiveshell.py:2882: DtypeWarning: Columns (19,59) have mixed types.Specify dtype option on import or set low_memory=False.\n",
            "  exec(code_obj, self.user_global_ns, self.user_ns)\n"
          ]
        },
        {
          "output_type": "stream",
          "name": "stdout",
          "text": [
            "Shapes of the data of rejected loan application(3941115, 9)\n",
            "Shapes of the data of accepted loan application(357793, 151)\n"
          ]
        },
        {
          "output_type": "execute_result",
          "data": {
            "text/html": [
              "\n",
              "  <div id=\"df-2629b9ce-6a10-45b1-acbc-132abdf8aeba\">\n",
              "    <div class=\"colab-df-container\">\n",
              "      <div>\n",
              "<style scoped>\n",
              "    .dataframe tbody tr th:only-of-type {\n",
              "        vertical-align: middle;\n",
              "    }\n",
              "\n",
              "    .dataframe tbody tr th {\n",
              "        vertical-align: top;\n",
              "    }\n",
              "\n",
              "    .dataframe thead th {\n",
              "        text-align: right;\n",
              "    }\n",
              "</style>\n",
              "<table border=\"1\" class=\"dataframe\">\n",
              "  <thead>\n",
              "    <tr style=\"text-align: right;\">\n",
              "      <th></th>\n",
              "      <th>Amount Requested</th>\n",
              "      <th>Application Date</th>\n",
              "      <th>Loan Title</th>\n",
              "      <th>Risk_Score</th>\n",
              "      <th>Debt-To-Income Ratio</th>\n",
              "      <th>Zip Code</th>\n",
              "      <th>State</th>\n",
              "      <th>Employment Length</th>\n",
              "      <th>Policy Code</th>\n",
              "    </tr>\n",
              "  </thead>\n",
              "  <tbody>\n",
              "    <tr>\n",
              "      <th>0</th>\n",
              "      <td>1000.0</td>\n",
              "      <td>2007-05-26</td>\n",
              "      <td>Wedding Covered but No Honeymoon</td>\n",
              "      <td>693.0</td>\n",
              "      <td>10%</td>\n",
              "      <td>481xx</td>\n",
              "      <td>NM</td>\n",
              "      <td>4 years</td>\n",
              "      <td>0.0</td>\n",
              "    </tr>\n",
              "    <tr>\n",
              "      <th>1</th>\n",
              "      <td>1000.0</td>\n",
              "      <td>2007-05-26</td>\n",
              "      <td>Consolidating Debt</td>\n",
              "      <td>703.0</td>\n",
              "      <td>10%</td>\n",
              "      <td>010xx</td>\n",
              "      <td>MA</td>\n",
              "      <td>&lt; 1 year</td>\n",
              "      <td>0.0</td>\n",
              "    </tr>\n",
              "    <tr>\n",
              "      <th>2</th>\n",
              "      <td>11000.0</td>\n",
              "      <td>2007-05-27</td>\n",
              "      <td>Want to consolidate my debt</td>\n",
              "      <td>715.0</td>\n",
              "      <td>10%</td>\n",
              "      <td>212xx</td>\n",
              "      <td>MD</td>\n",
              "      <td>1 year</td>\n",
              "      <td>0.0</td>\n",
              "    </tr>\n",
              "    <tr>\n",
              "      <th>3</th>\n",
              "      <td>6000.0</td>\n",
              "      <td>2007-05-27</td>\n",
              "      <td>waksman</td>\n",
              "      <td>698.0</td>\n",
              "      <td>38.64%</td>\n",
              "      <td>017xx</td>\n",
              "      <td>MA</td>\n",
              "      <td>&lt; 1 year</td>\n",
              "      <td>0.0</td>\n",
              "    </tr>\n",
              "    <tr>\n",
              "      <th>4</th>\n",
              "      <td>1500.0</td>\n",
              "      <td>2007-05-27</td>\n",
              "      <td>mdrigo</td>\n",
              "      <td>509.0</td>\n",
              "      <td>9.43%</td>\n",
              "      <td>209xx</td>\n",
              "      <td>MD</td>\n",
              "      <td>&lt; 1 year</td>\n",
              "      <td>0.0</td>\n",
              "    </tr>\n",
              "  </tbody>\n",
              "</table>\n",
              "</div>\n",
              "      <button class=\"colab-df-convert\" onclick=\"convertToInteractive('df-2629b9ce-6a10-45b1-acbc-132abdf8aeba')\"\n",
              "              title=\"Convert this dataframe to an interactive table.\"\n",
              "              style=\"display:none;\">\n",
              "        \n",
              "  <svg xmlns=\"http://www.w3.org/2000/svg\" height=\"24px\"viewBox=\"0 0 24 24\"\n",
              "       width=\"24px\">\n",
              "    <path d=\"M0 0h24v24H0V0z\" fill=\"none\"/>\n",
              "    <path d=\"M18.56 5.44l.94 2.06.94-2.06 2.06-.94-2.06-.94-.94-2.06-.94 2.06-2.06.94zm-11 1L8.5 8.5l.94-2.06 2.06-.94-2.06-.94L8.5 2.5l-.94 2.06-2.06.94zm10 10l.94 2.06.94-2.06 2.06-.94-2.06-.94-.94-2.06-.94 2.06-2.06.94z\"/><path d=\"M17.41 7.96l-1.37-1.37c-.4-.4-.92-.59-1.43-.59-.52 0-1.04.2-1.43.59L10.3 9.45l-7.72 7.72c-.78.78-.78 2.05 0 2.83L4 21.41c.39.39.9.59 1.41.59.51 0 1.02-.2 1.41-.59l7.78-7.78 2.81-2.81c.8-.78.8-2.07 0-2.86zM5.41 20L4 18.59l7.72-7.72 1.47 1.35L5.41 20z\"/>\n",
              "  </svg>\n",
              "      </button>\n",
              "      \n",
              "  <style>\n",
              "    .colab-df-container {\n",
              "      display:flex;\n",
              "      flex-wrap:wrap;\n",
              "      gap: 12px;\n",
              "    }\n",
              "\n",
              "    .colab-df-convert {\n",
              "      background-color: #E8F0FE;\n",
              "      border: none;\n",
              "      border-radius: 50%;\n",
              "      cursor: pointer;\n",
              "      display: none;\n",
              "      fill: #1967D2;\n",
              "      height: 32px;\n",
              "      padding: 0 0 0 0;\n",
              "      width: 32px;\n",
              "    }\n",
              "\n",
              "    .colab-df-convert:hover {\n",
              "      background-color: #E2EBFA;\n",
              "      box-shadow: 0px 1px 2px rgba(60, 64, 67, 0.3), 0px 1px 3px 1px rgba(60, 64, 67, 0.15);\n",
              "      fill: #174EA6;\n",
              "    }\n",
              "\n",
              "    [theme=dark] .colab-df-convert {\n",
              "      background-color: #3B4455;\n",
              "      fill: #D2E3FC;\n",
              "    }\n",
              "\n",
              "    [theme=dark] .colab-df-convert:hover {\n",
              "      background-color: #434B5C;\n",
              "      box-shadow: 0px 1px 3px 1px rgba(0, 0, 0, 0.15);\n",
              "      filter: drop-shadow(0px 1px 2px rgba(0, 0, 0, 0.3));\n",
              "      fill: #FFFFFF;\n",
              "    }\n",
              "  </style>\n",
              "\n",
              "      <script>\n",
              "        const buttonEl =\n",
              "          document.querySelector('#df-2629b9ce-6a10-45b1-acbc-132abdf8aeba button.colab-df-convert');\n",
              "        buttonEl.style.display =\n",
              "          google.colab.kernel.accessAllowed ? 'block' : 'none';\n",
              "\n",
              "        async function convertToInteractive(key) {\n",
              "          const element = document.querySelector('#df-2629b9ce-6a10-45b1-acbc-132abdf8aeba');\n",
              "          const dataTable =\n",
              "            await google.colab.kernel.invokeFunction('convertToInteractive',\n",
              "                                                     [key], {});\n",
              "          if (!dataTable) return;\n",
              "\n",
              "          const docLinkHtml = 'Like what you see? Visit the ' +\n",
              "            '<a target=\"_blank\" href=https://colab.research.google.com/notebooks/data_table.ipynb>data table notebook</a>'\n",
              "            + ' to learn more about interactive tables.';\n",
              "          element.innerHTML = '';\n",
              "          dataTable['output_type'] = 'display_data';\n",
              "          await google.colab.output.renderOutput(dataTable, element);\n",
              "          const docLink = document.createElement('div');\n",
              "          docLink.innerHTML = docLinkHtml;\n",
              "          element.appendChild(docLink);\n",
              "        }\n",
              "      </script>\n",
              "    </div>\n",
              "  </div>\n",
              "  "
            ],
            "text/plain": [
              "   Amount Requested Application Date  ... Employment Length  Policy Code\n",
              "0            1000.0       2007-05-26  ...           4 years          0.0\n",
              "1            1000.0       2007-05-26  ...          < 1 year          0.0\n",
              "2           11000.0       2007-05-27  ...            1 year          0.0\n",
              "3            6000.0       2007-05-27  ...          < 1 year          0.0\n",
              "4            1500.0       2007-05-27  ...          < 1 year          0.0\n",
              "\n",
              "[5 rows x 9 columns]"
            ]
          },
          "metadata": {},
          "execution_count": 12
        }
      ],
      "source": [
        "a_data = pd.read_csv(\"accepted_2007_to_2018Q4 2.csv\")\n",
        "r_data = pd.read_csv(\"rejected_2007_to_2018Q4 2.csv\")\n",
        "print(\"Shapes of the data of rejected loan application\"+str(r_data.shape))\n",
        "print(\"Shapes of the data of accepted loan application\"+str(a_data.shape))\n",
        "a_data.head(5)\n",
        "r_data.head(5)"
      ],
      "id": "715fd9cf"
    },
    {
      "cell_type": "code",
      "execution_count": 13,
      "metadata": {
        "colab": {
          "base_uri": "https://localhost:8080/"
        },
        "id": "MkP5bxxX_8xh",
        "outputId": "eb0ad168-27ad-494f-8073-9a7ba5357652"
      },
      "outputs": [
        {
          "output_type": "execute_result",
          "data": {
            "text/plain": [
              "Index(['id', 'member_id', 'loan_amnt', 'funded_amnt', 'funded_amnt_inv',\n",
              "       'term', 'int_rate', 'installment', 'grade', 'sub_grade',\n",
              "       ...\n",
              "       'hardship_payoff_balance_amount', 'hardship_last_payment_amount',\n",
              "       'disbursement_method', 'debt_settlement_flag',\n",
              "       'debt_settlement_flag_date', 'settlement_status', 'settlement_date',\n",
              "       'settlement_amount', 'settlement_percentage', 'settlement_term'],\n",
              "      dtype='object', length=151)"
            ]
          },
          "metadata": {},
          "execution_count": 13
        }
      ],
      "source": [
        "a_data.columns"
      ],
      "id": "MkP5bxxX_8xh"
    },
    {
      "cell_type": "code",
      "execution_count": 29,
      "metadata": {
        "colab": {
          "base_uri": "https://localhost:8080/",
          "height": 1000
        },
        "id": "WuCwqD7XS3pB",
        "outputId": "39098ed2-d83e-423b-869a-d1ccfa977d54"
      },
      "outputs": [
        {
          "output_type": "stream",
          "name": "stdout",
          "text": [
            "Shapes of the data(357793, 151)\n",
            "Data without missing values shape is (357793, 93)\n",
            "Let's check the data types\n",
            "Column/Feature    Unique Values count     Datatype\n",
            "id 357793 int64\n",
            "loan_amnt 1361 float64\n",
            "funded_amnt 1361 float64\n",
            "funded_amnt_inv 1367 float64\n",
            "term 2 object\n",
            "int_rate 94 float64\n",
            "installment 34808 float64\n",
            "grade 7 object\n",
            "sub_grade 35 object\n",
            "emp_title 105966 object\n",
            "emp_length 12 object\n",
            "home_ownership 4 object\n",
            "annual_inc 23430 float64\n",
            "verification_status 3 object\n",
            "issue_d 10 object\n",
            "loan_status 7 object\n",
            "pymnt_plan 2 object\n",
            "url 357793 object\n",
            "purpose 14 object\n",
            "title 21 object\n",
            "zip_code 907 object\n",
            "addr_state 49 object\n",
            "dti 4086 float64\n",
            "delinq_2yrs 26 float64\n",
            "earliest_cr_line 663 object\n",
            "fico_range_low 38 float64\n",
            "fico_range_high 38 float64\n",
            "inq_last_6mths 7 float64\n",
            "open_acc 70 float64\n",
            "pub_rec 27 float64\n",
            "revol_bal 59160 float64\n",
            "revol_util 1199 float64\n",
            "total_acc 122 float64\n",
            "initial_list_status 2 object\n",
            "out_prncp 26082 float64\n",
            "out_prncp_inv 27414 float64\n",
            "total_pymnt 326651 float64\n",
            "total_pymnt_inv 302924 float64\n",
            "total_rec_prncp 80846 float64\n",
            "total_rec_int 245263 float64\n",
            "total_rec_late_fee 5614 float64\n",
            "recoveries 38979 float64\n",
            "collection_recovery_fee 40705 float64\n",
            "last_pymnt_d 50 object\n",
            "last_pymnt_amnt 199453 float64\n",
            "last_credit_pull_d 50 object\n",
            "last_fico_range_high 72 float64\n",
            "last_fico_range_low 71 float64\n",
            "collections_12_mths_ex_med 10 float64\n",
            "policy_code 1 float64\n",
            "application_type 2 object\n",
            "acc_now_delinq 8 float64\n",
            "tot_coll_amt 7738 float64\n",
            "tot_cur_bal 208959 float64\n",
            "total_rev_hi_lim 10067 float64\n",
            "acc_open_past_24mths 47 float64\n",
            "avg_cur_bal 53397 float64\n",
            "bc_open_to_buy 48259 float64\n",
            "bc_util 1304 float64\n",
            "chargeoff_within_12_mths 10 float64\n",
            "delinq_amnt 829 float64\n",
            "mo_sin_old_il_acct 468 float64\n",
            "mo_sin_old_rev_tl_op 702 float64\n",
            "mo_sin_rcnt_rev_tl_op 238 float64\n",
            "mo_sin_rcnt_tl 165 float64\n",
            "mort_acc 35 float64\n",
            "mths_since_recent_bc 421 float64\n",
            "mths_since_recent_inq 27 float64\n",
            "num_accts_ever_120_pd 34 float64\n",
            "num_actv_bc_tl 31 float64\n",
            "num_actv_rev_tl 46 float64\n",
            "num_bc_sats 46 float64\n",
            "num_bc_tl 60 float64\n",
            "num_il_tl 100 float64\n",
            "num_op_rev_tl 59 float64\n",
            "num_rev_accts 92 float64\n",
            "num_rev_tl_bal_gt_0 43 float64\n",
            "num_sats 69 float64\n",
            "num_tl_120dpd_2m 5 float64\n",
            "num_tl_30dpd 5 float64\n",
            "num_tl_90g_dpd_24m 22 float64\n",
            "num_tl_op_past_12m 28 float64\n",
            "pct_tl_nvr_dlq 540 float64\n",
            "percent_bc_gt_75 182 float64\n",
            "pub_rec_bankruptcies 10 float64\n",
            "tax_liens 24 float64\n",
            "tot_hi_cred_lim 213590 float64\n",
            "total_bal_ex_mort 121865 float64\n",
            "total_bc_limit 4912 float64\n",
            "total_il_high_credit_limit 109256 float64\n",
            "hardship_flag 3 object\n",
            "disbursement_method 2 object\n",
            "debt_settlement_flag 3 object\n"
          ]
        },
        {
          "output_type": "execute_result",
          "data": {
            "text/html": [
              "\n",
              "  <div id=\"df-17a653ea-e617-4e21-9ff6-35943ee130d1\">\n",
              "    <div class=\"colab-df-container\">\n",
              "      <div>\n",
              "<style scoped>\n",
              "    .dataframe tbody tr th:only-of-type {\n",
              "        vertical-align: middle;\n",
              "    }\n",
              "\n",
              "    .dataframe tbody tr th {\n",
              "        vertical-align: top;\n",
              "    }\n",
              "\n",
              "    .dataframe thead th {\n",
              "        text-align: right;\n",
              "    }\n",
              "</style>\n",
              "<table border=\"1\" class=\"dataframe\">\n",
              "  <thead>\n",
              "    <tr style=\"text-align: right;\">\n",
              "      <th></th>\n",
              "      <th>id</th>\n",
              "      <th>loan_amnt</th>\n",
              "      <th>funded_amnt</th>\n",
              "      <th>funded_amnt_inv</th>\n",
              "      <th>term</th>\n",
              "      <th>int_rate</th>\n",
              "      <th>installment</th>\n",
              "      <th>grade</th>\n",
              "      <th>sub_grade</th>\n",
              "      <th>emp_title</th>\n",
              "      <th>emp_length</th>\n",
              "      <th>home_ownership</th>\n",
              "      <th>annual_inc</th>\n",
              "      <th>verification_status</th>\n",
              "      <th>issue_d</th>\n",
              "      <th>loan_status</th>\n",
              "      <th>pymnt_plan</th>\n",
              "      <th>url</th>\n",
              "      <th>purpose</th>\n",
              "      <th>title</th>\n",
              "      <th>zip_code</th>\n",
              "      <th>addr_state</th>\n",
              "      <th>dti</th>\n",
              "      <th>delinq_2yrs</th>\n",
              "      <th>earliest_cr_line</th>\n",
              "      <th>fico_range_low</th>\n",
              "      <th>fico_range_high</th>\n",
              "      <th>inq_last_6mths</th>\n",
              "      <th>open_acc</th>\n",
              "      <th>pub_rec</th>\n",
              "      <th>revol_bal</th>\n",
              "      <th>revol_util</th>\n",
              "      <th>total_acc</th>\n",
              "      <th>initial_list_status</th>\n",
              "      <th>out_prncp</th>\n",
              "      <th>out_prncp_inv</th>\n",
              "      <th>total_pymnt</th>\n",
              "      <th>total_pymnt_inv</th>\n",
              "      <th>total_rec_prncp</th>\n",
              "      <th>total_rec_int</th>\n",
              "      <th>...</th>\n",
              "      <th>tot_cur_bal</th>\n",
              "      <th>total_rev_hi_lim</th>\n",
              "      <th>acc_open_past_24mths</th>\n",
              "      <th>avg_cur_bal</th>\n",
              "      <th>bc_open_to_buy</th>\n",
              "      <th>bc_util</th>\n",
              "      <th>chargeoff_within_12_mths</th>\n",
              "      <th>delinq_amnt</th>\n",
              "      <th>mo_sin_old_il_acct</th>\n",
              "      <th>mo_sin_old_rev_tl_op</th>\n",
              "      <th>mo_sin_rcnt_rev_tl_op</th>\n",
              "      <th>mo_sin_rcnt_tl</th>\n",
              "      <th>mort_acc</th>\n",
              "      <th>mths_since_recent_bc</th>\n",
              "      <th>mths_since_recent_inq</th>\n",
              "      <th>num_accts_ever_120_pd</th>\n",
              "      <th>num_actv_bc_tl</th>\n",
              "      <th>num_actv_rev_tl</th>\n",
              "      <th>num_bc_sats</th>\n",
              "      <th>num_bc_tl</th>\n",
              "      <th>num_il_tl</th>\n",
              "      <th>num_op_rev_tl</th>\n",
              "      <th>num_rev_accts</th>\n",
              "      <th>num_rev_tl_bal_gt_0</th>\n",
              "      <th>num_sats</th>\n",
              "      <th>num_tl_120dpd_2m</th>\n",
              "      <th>num_tl_30dpd</th>\n",
              "      <th>num_tl_90g_dpd_24m</th>\n",
              "      <th>num_tl_op_past_12m</th>\n",
              "      <th>pct_tl_nvr_dlq</th>\n",
              "      <th>percent_bc_gt_75</th>\n",
              "      <th>pub_rec_bankruptcies</th>\n",
              "      <th>tax_liens</th>\n",
              "      <th>tot_hi_cred_lim</th>\n",
              "      <th>total_bal_ex_mort</th>\n",
              "      <th>total_bc_limit</th>\n",
              "      <th>total_il_high_credit_limit</th>\n",
              "      <th>hardship_flag</th>\n",
              "      <th>disbursement_method</th>\n",
              "      <th>debt_settlement_flag</th>\n",
              "    </tr>\n",
              "  </thead>\n",
              "  <tbody>\n",
              "    <tr>\n",
              "      <th>0</th>\n",
              "      <td>68407277</td>\n",
              "      <td>3600.0</td>\n",
              "      <td>3600.0</td>\n",
              "      <td>3600.0</td>\n",
              "      <td>36 months</td>\n",
              "      <td>13.99</td>\n",
              "      <td>123.03</td>\n",
              "      <td>C</td>\n",
              "      <td>C4</td>\n",
              "      <td>leadman</td>\n",
              "      <td>10+ years</td>\n",
              "      <td>MORTGAGE</td>\n",
              "      <td>55000.0</td>\n",
              "      <td>Not Verified</td>\n",
              "      <td>Dec-2015</td>\n",
              "      <td>Fully Paid</td>\n",
              "      <td>n</td>\n",
              "      <td>https://lendingclub.com/browse/loanDetail.acti...</td>\n",
              "      <td>debt_consolidation</td>\n",
              "      <td>Debt consolidation</td>\n",
              "      <td>190xx</td>\n",
              "      <td>PA</td>\n",
              "      <td>5.91</td>\n",
              "      <td>0.0</td>\n",
              "      <td>Aug-2003</td>\n",
              "      <td>675.0</td>\n",
              "      <td>679.0</td>\n",
              "      <td>1.0</td>\n",
              "      <td>7.0</td>\n",
              "      <td>0.0</td>\n",
              "      <td>2765.0</td>\n",
              "      <td>29.7</td>\n",
              "      <td>13.0</td>\n",
              "      <td>w</td>\n",
              "      <td>0.00</td>\n",
              "      <td>0.00</td>\n",
              "      <td>4421.723917</td>\n",
              "      <td>4421.72</td>\n",
              "      <td>3600.00</td>\n",
              "      <td>821.72</td>\n",
              "      <td>...</td>\n",
              "      <td>144904.0</td>\n",
              "      <td>9300.0</td>\n",
              "      <td>4.0</td>\n",
              "      <td>20701.0</td>\n",
              "      <td>1506.0</td>\n",
              "      <td>37.2</td>\n",
              "      <td>0.0</td>\n",
              "      <td>0.0</td>\n",
              "      <td>148.0</td>\n",
              "      <td>128.0</td>\n",
              "      <td>3.0</td>\n",
              "      <td>3.0</td>\n",
              "      <td>1.0</td>\n",
              "      <td>4.0</td>\n",
              "      <td>4.0</td>\n",
              "      <td>2.0</td>\n",
              "      <td>2.0</td>\n",
              "      <td>4.0</td>\n",
              "      <td>2.0</td>\n",
              "      <td>5.0</td>\n",
              "      <td>3.0</td>\n",
              "      <td>4.0</td>\n",
              "      <td>9.0</td>\n",
              "      <td>4.0</td>\n",
              "      <td>7.0</td>\n",
              "      <td>0.0</td>\n",
              "      <td>0.0</td>\n",
              "      <td>0.0</td>\n",
              "      <td>3.0</td>\n",
              "      <td>76.9</td>\n",
              "      <td>0.0</td>\n",
              "      <td>0.0</td>\n",
              "      <td>0.0</td>\n",
              "      <td>178050.0</td>\n",
              "      <td>7746.0</td>\n",
              "      <td>2400.0</td>\n",
              "      <td>13734.0</td>\n",
              "      <td>N</td>\n",
              "      <td>Cash</td>\n",
              "      <td>N</td>\n",
              "    </tr>\n",
              "    <tr>\n",
              "      <th>1</th>\n",
              "      <td>68355089</td>\n",
              "      <td>24700.0</td>\n",
              "      <td>24700.0</td>\n",
              "      <td>24700.0</td>\n",
              "      <td>36 months</td>\n",
              "      <td>11.99</td>\n",
              "      <td>820.28</td>\n",
              "      <td>C</td>\n",
              "      <td>C1</td>\n",
              "      <td>Engineer</td>\n",
              "      <td>10+ years</td>\n",
              "      <td>MORTGAGE</td>\n",
              "      <td>65000.0</td>\n",
              "      <td>Not Verified</td>\n",
              "      <td>Dec-2015</td>\n",
              "      <td>Fully Paid</td>\n",
              "      <td>n</td>\n",
              "      <td>https://lendingclub.com/browse/loanDetail.acti...</td>\n",
              "      <td>small_business</td>\n",
              "      <td>Business</td>\n",
              "      <td>577xx</td>\n",
              "      <td>SD</td>\n",
              "      <td>16.06</td>\n",
              "      <td>1.0</td>\n",
              "      <td>Dec-1999</td>\n",
              "      <td>715.0</td>\n",
              "      <td>719.0</td>\n",
              "      <td>4.0</td>\n",
              "      <td>22.0</td>\n",
              "      <td>0.0</td>\n",
              "      <td>21470.0</td>\n",
              "      <td>19.2</td>\n",
              "      <td>38.0</td>\n",
              "      <td>w</td>\n",
              "      <td>0.00</td>\n",
              "      <td>0.00</td>\n",
              "      <td>25679.660000</td>\n",
              "      <td>25679.66</td>\n",
              "      <td>24700.00</td>\n",
              "      <td>979.66</td>\n",
              "      <td>...</td>\n",
              "      <td>204396.0</td>\n",
              "      <td>111800.0</td>\n",
              "      <td>4.0</td>\n",
              "      <td>9733.0</td>\n",
              "      <td>57830.0</td>\n",
              "      <td>27.1</td>\n",
              "      <td>0.0</td>\n",
              "      <td>0.0</td>\n",
              "      <td>113.0</td>\n",
              "      <td>192.0</td>\n",
              "      <td>2.0</td>\n",
              "      <td>2.0</td>\n",
              "      <td>4.0</td>\n",
              "      <td>2.0</td>\n",
              "      <td>0.0</td>\n",
              "      <td>0.0</td>\n",
              "      <td>5.0</td>\n",
              "      <td>5.0</td>\n",
              "      <td>13.0</td>\n",
              "      <td>17.0</td>\n",
              "      <td>6.0</td>\n",
              "      <td>20.0</td>\n",
              "      <td>27.0</td>\n",
              "      <td>5.0</td>\n",
              "      <td>22.0</td>\n",
              "      <td>0.0</td>\n",
              "      <td>0.0</td>\n",
              "      <td>0.0</td>\n",
              "      <td>2.0</td>\n",
              "      <td>97.4</td>\n",
              "      <td>7.7</td>\n",
              "      <td>0.0</td>\n",
              "      <td>0.0</td>\n",
              "      <td>314017.0</td>\n",
              "      <td>39475.0</td>\n",
              "      <td>79300.0</td>\n",
              "      <td>24667.0</td>\n",
              "      <td>N</td>\n",
              "      <td>Cash</td>\n",
              "      <td>N</td>\n",
              "    </tr>\n",
              "    <tr>\n",
              "      <th>2</th>\n",
              "      <td>68341763</td>\n",
              "      <td>20000.0</td>\n",
              "      <td>20000.0</td>\n",
              "      <td>20000.0</td>\n",
              "      <td>60 months</td>\n",
              "      <td>10.78</td>\n",
              "      <td>432.66</td>\n",
              "      <td>B</td>\n",
              "      <td>B4</td>\n",
              "      <td>truck driver</td>\n",
              "      <td>10+ years</td>\n",
              "      <td>MORTGAGE</td>\n",
              "      <td>63000.0</td>\n",
              "      <td>Not Verified</td>\n",
              "      <td>Dec-2015</td>\n",
              "      <td>Fully Paid</td>\n",
              "      <td>n</td>\n",
              "      <td>https://lendingclub.com/browse/loanDetail.acti...</td>\n",
              "      <td>home_improvement</td>\n",
              "      <td>NaN</td>\n",
              "      <td>605xx</td>\n",
              "      <td>IL</td>\n",
              "      <td>10.78</td>\n",
              "      <td>0.0</td>\n",
              "      <td>Aug-2000</td>\n",
              "      <td>695.0</td>\n",
              "      <td>699.0</td>\n",
              "      <td>0.0</td>\n",
              "      <td>6.0</td>\n",
              "      <td>0.0</td>\n",
              "      <td>7869.0</td>\n",
              "      <td>56.2</td>\n",
              "      <td>18.0</td>\n",
              "      <td>w</td>\n",
              "      <td>0.00</td>\n",
              "      <td>0.00</td>\n",
              "      <td>22705.924294</td>\n",
              "      <td>22705.92</td>\n",
              "      <td>20000.00</td>\n",
              "      <td>2705.92</td>\n",
              "      <td>...</td>\n",
              "      <td>189699.0</td>\n",
              "      <td>14000.0</td>\n",
              "      <td>6.0</td>\n",
              "      <td>31617.0</td>\n",
              "      <td>2737.0</td>\n",
              "      <td>55.9</td>\n",
              "      <td>0.0</td>\n",
              "      <td>0.0</td>\n",
              "      <td>125.0</td>\n",
              "      <td>184.0</td>\n",
              "      <td>14.0</td>\n",
              "      <td>14.0</td>\n",
              "      <td>5.0</td>\n",
              "      <td>101.0</td>\n",
              "      <td>10.0</td>\n",
              "      <td>0.0</td>\n",
              "      <td>2.0</td>\n",
              "      <td>3.0</td>\n",
              "      <td>2.0</td>\n",
              "      <td>4.0</td>\n",
              "      <td>6.0</td>\n",
              "      <td>4.0</td>\n",
              "      <td>7.0</td>\n",
              "      <td>3.0</td>\n",
              "      <td>6.0</td>\n",
              "      <td>0.0</td>\n",
              "      <td>0.0</td>\n",
              "      <td>0.0</td>\n",
              "      <td>0.0</td>\n",
              "      <td>100.0</td>\n",
              "      <td>50.0</td>\n",
              "      <td>0.0</td>\n",
              "      <td>0.0</td>\n",
              "      <td>218418.0</td>\n",
              "      <td>18696.0</td>\n",
              "      <td>6200.0</td>\n",
              "      <td>14877.0</td>\n",
              "      <td>N</td>\n",
              "      <td>Cash</td>\n",
              "      <td>N</td>\n",
              "    </tr>\n",
              "    <tr>\n",
              "      <th>3</th>\n",
              "      <td>66310712</td>\n",
              "      <td>35000.0</td>\n",
              "      <td>35000.0</td>\n",
              "      <td>35000.0</td>\n",
              "      <td>60 months</td>\n",
              "      <td>14.85</td>\n",
              "      <td>829.90</td>\n",
              "      <td>C</td>\n",
              "      <td>C5</td>\n",
              "      <td>Information Systems Officer</td>\n",
              "      <td>10+ years</td>\n",
              "      <td>MORTGAGE</td>\n",
              "      <td>110000.0</td>\n",
              "      <td>Source Verified</td>\n",
              "      <td>Dec-2015</td>\n",
              "      <td>Current</td>\n",
              "      <td>n</td>\n",
              "      <td>https://lendingclub.com/browse/loanDetail.acti...</td>\n",
              "      <td>debt_consolidation</td>\n",
              "      <td>Debt consolidation</td>\n",
              "      <td>076xx</td>\n",
              "      <td>NJ</td>\n",
              "      <td>17.06</td>\n",
              "      <td>0.0</td>\n",
              "      <td>Sep-2008</td>\n",
              "      <td>785.0</td>\n",
              "      <td>789.0</td>\n",
              "      <td>0.0</td>\n",
              "      <td>13.0</td>\n",
              "      <td>0.0</td>\n",
              "      <td>7802.0</td>\n",
              "      <td>11.6</td>\n",
              "      <td>17.0</td>\n",
              "      <td>w</td>\n",
              "      <td>15897.65</td>\n",
              "      <td>15897.65</td>\n",
              "      <td>31464.010000</td>\n",
              "      <td>31464.01</td>\n",
              "      <td>19102.35</td>\n",
              "      <td>12361.66</td>\n",
              "      <td>...</td>\n",
              "      <td>301500.0</td>\n",
              "      <td>67300.0</td>\n",
              "      <td>2.0</td>\n",
              "      <td>23192.0</td>\n",
              "      <td>54962.0</td>\n",
              "      <td>12.1</td>\n",
              "      <td>0.0</td>\n",
              "      <td>0.0</td>\n",
              "      <td>36.0</td>\n",
              "      <td>87.0</td>\n",
              "      <td>2.0</td>\n",
              "      <td>2.0</td>\n",
              "      <td>1.0</td>\n",
              "      <td>2.0</td>\n",
              "      <td>NaN</td>\n",
              "      <td>0.0</td>\n",
              "      <td>4.0</td>\n",
              "      <td>5.0</td>\n",
              "      <td>8.0</td>\n",
              "      <td>10.0</td>\n",
              "      <td>2.0</td>\n",
              "      <td>10.0</td>\n",
              "      <td>13.0</td>\n",
              "      <td>5.0</td>\n",
              "      <td>13.0</td>\n",
              "      <td>0.0</td>\n",
              "      <td>0.0</td>\n",
              "      <td>0.0</td>\n",
              "      <td>1.0</td>\n",
              "      <td>100.0</td>\n",
              "      <td>0.0</td>\n",
              "      <td>0.0</td>\n",
              "      <td>0.0</td>\n",
              "      <td>381215.0</td>\n",
              "      <td>52226.0</td>\n",
              "      <td>62500.0</td>\n",
              "      <td>18000.0</td>\n",
              "      <td>N</td>\n",
              "      <td>Cash</td>\n",
              "      <td>N</td>\n",
              "    </tr>\n",
              "    <tr>\n",
              "      <th>4</th>\n",
              "      <td>68476807</td>\n",
              "      <td>10400.0</td>\n",
              "      <td>10400.0</td>\n",
              "      <td>10400.0</td>\n",
              "      <td>60 months</td>\n",
              "      <td>22.45</td>\n",
              "      <td>289.91</td>\n",
              "      <td>F</td>\n",
              "      <td>F1</td>\n",
              "      <td>Contract Specialist</td>\n",
              "      <td>3 years</td>\n",
              "      <td>MORTGAGE</td>\n",
              "      <td>104433.0</td>\n",
              "      <td>Source Verified</td>\n",
              "      <td>Dec-2015</td>\n",
              "      <td>Fully Paid</td>\n",
              "      <td>n</td>\n",
              "      <td>https://lendingclub.com/browse/loanDetail.acti...</td>\n",
              "      <td>major_purchase</td>\n",
              "      <td>Major purchase</td>\n",
              "      <td>174xx</td>\n",
              "      <td>PA</td>\n",
              "      <td>25.37</td>\n",
              "      <td>1.0</td>\n",
              "      <td>Jun-1998</td>\n",
              "      <td>695.0</td>\n",
              "      <td>699.0</td>\n",
              "      <td>3.0</td>\n",
              "      <td>12.0</td>\n",
              "      <td>0.0</td>\n",
              "      <td>21929.0</td>\n",
              "      <td>64.5</td>\n",
              "      <td>35.0</td>\n",
              "      <td>w</td>\n",
              "      <td>0.00</td>\n",
              "      <td>0.00</td>\n",
              "      <td>11740.500000</td>\n",
              "      <td>11740.50</td>\n",
              "      <td>10400.00</td>\n",
              "      <td>1340.50</td>\n",
              "      <td>...</td>\n",
              "      <td>331730.0</td>\n",
              "      <td>34000.0</td>\n",
              "      <td>10.0</td>\n",
              "      <td>27644.0</td>\n",
              "      <td>4567.0</td>\n",
              "      <td>77.5</td>\n",
              "      <td>0.0</td>\n",
              "      <td>0.0</td>\n",
              "      <td>128.0</td>\n",
              "      <td>210.0</td>\n",
              "      <td>4.0</td>\n",
              "      <td>4.0</td>\n",
              "      <td>6.0</td>\n",
              "      <td>4.0</td>\n",
              "      <td>1.0</td>\n",
              "      <td>0.0</td>\n",
              "      <td>4.0</td>\n",
              "      <td>6.0</td>\n",
              "      <td>5.0</td>\n",
              "      <td>9.0</td>\n",
              "      <td>10.0</td>\n",
              "      <td>7.0</td>\n",
              "      <td>19.0</td>\n",
              "      <td>6.0</td>\n",
              "      <td>12.0</td>\n",
              "      <td>0.0</td>\n",
              "      <td>0.0</td>\n",
              "      <td>0.0</td>\n",
              "      <td>4.0</td>\n",
              "      <td>96.6</td>\n",
              "      <td>60.0</td>\n",
              "      <td>0.0</td>\n",
              "      <td>0.0</td>\n",
              "      <td>439570.0</td>\n",
              "      <td>95768.0</td>\n",
              "      <td>20300.0</td>\n",
              "      <td>88097.0</td>\n",
              "      <td>N</td>\n",
              "      <td>Cash</td>\n",
              "      <td>N</td>\n",
              "    </tr>\n",
              "  </tbody>\n",
              "</table>\n",
              "<p>5 rows × 93 columns</p>\n",
              "</div>\n",
              "      <button class=\"colab-df-convert\" onclick=\"convertToInteractive('df-17a653ea-e617-4e21-9ff6-35943ee130d1')\"\n",
              "              title=\"Convert this dataframe to an interactive table.\"\n",
              "              style=\"display:none;\">\n",
              "        \n",
              "  <svg xmlns=\"http://www.w3.org/2000/svg\" height=\"24px\"viewBox=\"0 0 24 24\"\n",
              "       width=\"24px\">\n",
              "    <path d=\"M0 0h24v24H0V0z\" fill=\"none\"/>\n",
              "    <path d=\"M18.56 5.44l.94 2.06.94-2.06 2.06-.94-2.06-.94-.94-2.06-.94 2.06-2.06.94zm-11 1L8.5 8.5l.94-2.06 2.06-.94-2.06-.94L8.5 2.5l-.94 2.06-2.06.94zm10 10l.94 2.06.94-2.06 2.06-.94-2.06-.94-.94-2.06-.94 2.06-2.06.94z\"/><path d=\"M17.41 7.96l-1.37-1.37c-.4-.4-.92-.59-1.43-.59-.52 0-1.04.2-1.43.59L10.3 9.45l-7.72 7.72c-.78.78-.78 2.05 0 2.83L4 21.41c.39.39.9.59 1.41.59.51 0 1.02-.2 1.41-.59l7.78-7.78 2.81-2.81c.8-.78.8-2.07 0-2.86zM5.41 20L4 18.59l7.72-7.72 1.47 1.35L5.41 20z\"/>\n",
              "  </svg>\n",
              "      </button>\n",
              "      \n",
              "  <style>\n",
              "    .colab-df-container {\n",
              "      display:flex;\n",
              "      flex-wrap:wrap;\n",
              "      gap: 12px;\n",
              "    }\n",
              "\n",
              "    .colab-df-convert {\n",
              "      background-color: #E8F0FE;\n",
              "      border: none;\n",
              "      border-radius: 50%;\n",
              "      cursor: pointer;\n",
              "      display: none;\n",
              "      fill: #1967D2;\n",
              "      height: 32px;\n",
              "      padding: 0 0 0 0;\n",
              "      width: 32px;\n",
              "    }\n",
              "\n",
              "    .colab-df-convert:hover {\n",
              "      background-color: #E2EBFA;\n",
              "      box-shadow: 0px 1px 2px rgba(60, 64, 67, 0.3), 0px 1px 3px 1px rgba(60, 64, 67, 0.15);\n",
              "      fill: #174EA6;\n",
              "    }\n",
              "\n",
              "    [theme=dark] .colab-df-convert {\n",
              "      background-color: #3B4455;\n",
              "      fill: #D2E3FC;\n",
              "    }\n",
              "\n",
              "    [theme=dark] .colab-df-convert:hover {\n",
              "      background-color: #434B5C;\n",
              "      box-shadow: 0px 1px 3px 1px rgba(0, 0, 0, 0.15);\n",
              "      filter: drop-shadow(0px 1px 2px rgba(0, 0, 0, 0.3));\n",
              "      fill: #FFFFFF;\n",
              "    }\n",
              "  </style>\n",
              "\n",
              "      <script>\n",
              "        const buttonEl =\n",
              "          document.querySelector('#df-17a653ea-e617-4e21-9ff6-35943ee130d1 button.colab-df-convert');\n",
              "        buttonEl.style.display =\n",
              "          google.colab.kernel.accessAllowed ? 'block' : 'none';\n",
              "\n",
              "        async function convertToInteractive(key) {\n",
              "          const element = document.querySelector('#df-17a653ea-e617-4e21-9ff6-35943ee130d1');\n",
              "          const dataTable =\n",
              "            await google.colab.kernel.invokeFunction('convertToInteractive',\n",
              "                                                     [key], {});\n",
              "          if (!dataTable) return;\n",
              "\n",
              "          const docLinkHtml = 'Like what you see? Visit the ' +\n",
              "            '<a target=\"_blank\" href=https://colab.research.google.com/notebooks/data_table.ipynb>data table notebook</a>'\n",
              "            + ' to learn more about interactive tables.';\n",
              "          element.innerHTML = '';\n",
              "          dataTable['output_type'] = 'display_data';\n",
              "          await google.colab.output.renderOutput(dataTable, element);\n",
              "          const docLink = document.createElement('div');\n",
              "          docLink.innerHTML = docLinkHtml;\n",
              "          element.appendChild(docLink);\n",
              "        }\n",
              "      </script>\n",
              "    </div>\n",
              "  </div>\n",
              "  "
            ],
            "text/plain": [
              "         id  loan_amnt  ...  disbursement_method  debt_settlement_flag\n",
              "0  68407277     3600.0  ...                 Cash                     N\n",
              "1  68355089    24700.0  ...                 Cash                     N\n",
              "2  68341763    20000.0  ...                 Cash                     N\n",
              "3  66310712    35000.0  ...                 Cash                     N\n",
              "4  68476807    10400.0  ...                 Cash                     N\n",
              "\n",
              "[5 rows x 93 columns]"
            ]
          },
          "metadata": {},
          "execution_count": 29
        }
      ],
      "source": [
        "cleaned_a_data = clean(a_data)\n",
        "cleaned_a_data.head()"
      ],
      "id": "WuCwqD7XS3pB"
    },
    {
      "cell_type": "markdown",
      "source": [
        "There are a few columns having a single unique value or all unique values. These may have nothing much to contribute to the analysis i.e. columns which are far from being the driving columns towards loan default. Some other columns are redundant.\n",
        "\n",
        "These columns are:\n",
        "\n",
        "1.  **id** :\\\n",
        "    is a random number given to the loan, does not contribute to analysis\n",
        "2.  **pymnt_plan** :\\\n",
        "    value for entire dataset is 'n', therefore can be removed.\n",
        "3.  **url** :\\\n",
        "    is a URL for LC page for corresponding to each memberid, nothing to do with loan default.\n",
        "4. **funded_amnt** :\\\n",
        "    value for this column is almost equivalent to loan_amnt. removing to avoid multi colinearity.\n",
        "5.  **zip_code** :\\\n",
        "    first 3 digits of the 5 digit zip code are visible, also is redundant with addr_state, does not contribute to analysis\n",
        "6.  **initial_list_status** :\\\n",
        "    value for entire dataset is 'f' out of the possible values, therefore can be removed.\n",
        "7.  **policy_code** :\\\n",
        "    value for entire dataset is '1', indicating all are publicly available, therefore nothing to contribute for analysis, to be removed.\n",
        "8.  **application_type** :\\\n",
        "    value for entire dataset is 'INDIVIDUAL', indicating all are individual applications not joint, therefore nothing to contribute for analysis, to be removed.\n",
        "9.  **acc_now_delinq** :\\\n",
        "    value for entire dataset is '0', therefore can be removed.\n",
        "10. **delinq_amnt** :\\\n",
        "    value for entire dataset is '0', therefore can be removed.\n",
        "\n",
        "11. **funded_amnt_inv** :\\\n",
        "    value for this column is almost equivalent to funded_amnt. removing to avoid multi colinearity. Also this wont be available at the time of decision making of funding a loan."
      ],
      "metadata": {
        "id": "on5sFIr1BcLh"
      },
      "id": "on5sFIr1BcLh"
    },
    {
      "cell_type": "code",
      "source": [
        "#Dropping more columns which are not important for analysis:\n",
        "# earliest_cr_line : The date the borrower's earliest reported credit line was opened since it's not related to loan being payed or not\n",
        "#Url : no additional data\n",
        "#Zip_code : same information as state data\n",
        "#last_pymnt_d : last_pymnt_d\n",
        "to_drop = ['id','funded_amnt','funded_amnt_inv','pymnt_plan','url','zip_code','initial_list_status','policy_code','application_type','acc_now_delinq','delinq_amnt']\n",
        "ncleaned_a_data = cleaned_a_data.drop(to_drop, axis = 1)\n",
        "ncleaned_a_data.shape"
      ],
      "metadata": {
        "colab": {
          "base_uri": "https://localhost:8080/"
        },
        "id": "NGLxzqbq-90E",
        "outputId": "692d7400-eb9d-491a-d895-e900cfc4160d"
      },
      "id": "NGLxzqbq-90E",
      "execution_count": 57,
      "outputs": [
        {
          "output_type": "execute_result",
          "data": {
            "text/plain": [
              "(357793, 82)"
            ]
          },
          "metadata": {},
          "execution_count": 57
        }
      ]
    },
    {
      "cell_type": "code",
      "source": [
        "# the term columns has months added in the values as well so let's just have the month \n",
        "ncleaned_a_data['term'] = ncleaned_a_data.term.apply(lambda x: x.split()[0])"
      ],
      "metadata": {
        "id": "oVoXmq4qFsDh"
      },
      "id": "oVoXmq4qFsDh",
      "execution_count": 59,
      "outputs": []
    },
    {
      "cell_type": "code",
      "source": [
        "#Checking the Categorical data values\n",
        "categorical = [feature for feature in ncleaned_a_data.columns if ncleaned_a_data[feature].dtype == \"O\"]\n",
        "for i in categorical:\n",
        "  if len(ncleaned_a_data[i].unique())<10:\n",
        "\n",
        "    print(i, ncleaned_a_data[i].value_counts())\n",
        "    categorical_pieplot(ncleaned_a_data, [i])"
      ],
      "metadata": {
        "colab": {
          "base_uri": "https://localhost:8080/",
          "height": 1000
        },
        "id": "E-nouCBax6D5",
        "outputId": "c4d2ee54-3f43-4ae5-ef52-392569f8711f"
      },
      "id": "E-nouCBax6D5",
      "execution_count": 116,
      "outputs": [
        {
          "output_type": "stream",
          "name": "stdout",
          "text": [
            "term 36    240593\n",
            "60    117200\n",
            "Name: term, dtype: int64\n"
          ]
        },
        {
          "output_type": "display_data",
          "data": {
            "image/png": "[encoded data removed]",
            "text/plain": [
              "<Figure size 432x288 with 1 Axes>"
            ]
          },
          "metadata": {}
        },
        {
          "output_type": "stream",
          "name": "stdout",
          "text": [
            "grade C    102632\n",
            "B    100906\n",
            "A     62218\n",
            "D     52310\n",
            "E     29624\n",
            "F      8361\n",
            "G      1742\n",
            "Name: grade, dtype: int64\n"
          ]
        },
        {
          "output_type": "display_data",
          "data": {
            "image/png": "[encoded data removed]",
            "text/plain": [
              "<Figure size 432x288 with 1 Axes>"
            ]
          },
          "metadata": {}
        },
        {
          "output_type": "stream",
          "name": "stdout",
          "text": [
            "home_ownership MORTGAGE    176829\n",
            "RENT        141773\n",
            "OWN          39189\n",
            "ANY              2\n",
            "Name: home_ownership, dtype: int64\n"
          ]
        },
        {
          "output_type": "display_data",
          "data": {
            "image/png": "[encoded data removed]",
            "text/plain": [
              "<Figure size 432x288 with 1 Axes>"
            ]
          },
          "metadata": {}
        },
        {
          "output_type": "stream",
          "name": "stdout",
          "text": [
            "verification_status Source Verified    155858\n",
            "Verified           104837\n",
            "Not Verified        97098\n",
            "Name: verification_status, dtype: int64\n"
          ]
        },
        {
          "output_type": "display_data",
          "data": {
            "image/png": "[encoded data removed]",
            "text/plain": [
              "<Figure size 432x288 with 1 Axes>"
            ]
          },
          "metadata": {}
        },
        {
          "output_type": "stream",
          "name": "stdout",
          "text": [
            "loan_status Fully Paid            253414\n",
            "Charged Off            64302\n",
            "Current                38054\n",
            "Late (31-120 days)      1227\n",
            "In Grace Period          546\n",
            "Late (16-30 days)        249\n",
            "Default                    1\n",
            "Name: loan_status, dtype: int64\n"
          ]
        },
        {
          "output_type": "display_data",
          "data": {
            "image/png": "[encoded data removed]",
            "text/plain": [
              "<Figure size 432x288 with 1 Axes>"
            ]
          },
          "metadata": {}
        },
        {
          "output_type": "stream",
          "name": "stdout",
          "text": [
            "hardship_flag N    357746\n",
            "Y        46\n",
            "Name: hardship_flag, dtype: int64\n"
          ]
        },
        {
          "output_type": "display_data",
          "data": {
            "image/png": "[encoded data removed]",
            "text/plain": [
              "<Figure size 432x288 with 1 Axes>"
            ]
          },
          "metadata": {}
        },
        {
          "output_type": "stream",
          "name": "stdout",
          "text": [
            "disbursement_method Cash    357792\n",
            "Name: disbursement_method, dtype: int64\n"
          ]
        },
        {
          "output_type": "display_data",
          "data": {
            "image/png": "[encoded data removed]",
            "text/plain": [
              "<Figure size 432x288 with 1 Axes>"
            ]
          },
          "metadata": {}
        },
        {
          "output_type": "stream",
          "name": "stdout",
          "text": [
            "debt_settlement_flag N    347769\n",
            "Y     10023\n",
            "Name: debt_settlement_flag, dtype: int64\n"
          ]
        },
        {
          "output_type": "display_data",
          "data": {
            "image/png": "[encoded data removed]",
            "text/plain": [
              "<Figure size 432x288 with 1 Axes>"
            ]
          },
          "metadata": {}
        }
      ]
    },
    {
      "cell_type": "markdown",
      "source": [
        "As per the graphs above\n",
        "1. Loan Amount is predominately cash, so it's safe to drop the columns as well.\n",
        "2.Hardship flag is No for 99% values\n"
      ],
      "metadata": {
        "id": "pA_ibTl2lzcd"
      },
      "id": "pA_ibTl2lzcd"
    },
    {
      "cell_type": "code",
      "source": [
        "#Calling clean again to remove features with majority empyt values\n",
        "ncleaned_a_data = clean(ncleaned_a_data)"
      ],
      "metadata": {
        "colab": {
          "base_uri": "https://localhost:8080/"
        },
        "id": "FWFhaRiDKF4s",
        "outputId": "b3dc6ed6-f567-46b3-a7a8-1aa5410885de"
      },
      "id": "FWFhaRiDKF4s",
      "execution_count": 48,
      "outputs": [
        {
          "output_type": "stream",
          "name": "stdout",
          "text": [
            "Shapes of the data(357793, 82)\n",
            "Data without missing values shape is (357793, 82)\n",
            "Let's check the data types\n",
            "Column/Feature    Unique Values count     Datatype\n",
            "loan_amnt 1361 float64\n",
            "term 2 object\n",
            "int_rate 94 float64\n",
            "installment 34808 float64\n",
            "grade 7 object\n",
            "sub_grade 35 object\n",
            "emp_title 105966 object\n",
            "emp_length 12 object\n",
            "home_ownership 4 object\n",
            "annual_inc 23430 float64\n",
            "verification_status 3 object\n",
            "issue_d 10 object\n",
            "loan_status 7 object\n",
            "purpose 14 object\n",
            "title 21 object\n",
            "addr_state 49 object\n",
            "dti 4086 float64\n",
            "delinq_2yrs 26 float64\n",
            "earliest_cr_line 663 object\n",
            "fico_range_low 38 float64\n",
            "fico_range_high 38 float64\n",
            "inq_last_6mths 7 float64\n",
            "open_acc 70 float64\n",
            "pub_rec 27 float64\n",
            "revol_bal 59160 float64\n",
            "revol_util 1199 float64\n",
            "total_acc 122 float64\n",
            "out_prncp 26082 float64\n",
            "out_prncp_inv 27414 float64\n",
            "total_pymnt 326651 float64\n",
            "total_pymnt_inv 302924 float64\n",
            "total_rec_prncp 80846 float64\n",
            "total_rec_int 245263 float64\n",
            "total_rec_late_fee 5614 float64\n",
            "recoveries 38979 float64\n",
            "collection_recovery_fee 40705 float64\n",
            "last_pymnt_d 50 object\n",
            "last_pymnt_amnt 199453 float64\n",
            "last_credit_pull_d 50 object\n",
            "last_fico_range_high 72 float64\n",
            "last_fico_range_low 71 float64\n",
            "collections_12_mths_ex_med 10 float64\n",
            "tot_coll_amt 7738 float64\n",
            "tot_cur_bal 208959 float64\n",
            "total_rev_hi_lim 10067 float64\n",
            "acc_open_past_24mths 47 float64\n",
            "avg_cur_bal 53397 float64\n",
            "bc_open_to_buy 48259 float64\n",
            "bc_util 1304 float64\n",
            "chargeoff_within_12_mths 10 float64\n",
            "mo_sin_old_il_acct 468 float64\n",
            "mo_sin_old_rev_tl_op 702 float64\n",
            "mo_sin_rcnt_rev_tl_op 238 float64\n",
            "mo_sin_rcnt_tl 165 float64\n",
            "mort_acc 35 float64\n",
            "mths_since_recent_bc 421 float64\n",
            "mths_since_recent_inq 27 float64\n",
            "num_accts_ever_120_pd 34 float64\n",
            "num_actv_bc_tl 31 float64\n",
            "num_actv_rev_tl 46 float64\n",
            "num_bc_sats 46 float64\n",
            "num_bc_tl 60 float64\n",
            "num_il_tl 100 float64\n",
            "num_op_rev_tl 59 float64\n",
            "num_rev_accts 92 float64\n",
            "num_rev_tl_bal_gt_0 43 float64\n",
            "num_sats 69 float64\n",
            "num_tl_120dpd_2m 5 float64\n",
            "num_tl_30dpd 5 float64\n",
            "num_tl_90g_dpd_24m 22 float64\n",
            "num_tl_op_past_12m 28 float64\n",
            "pct_tl_nvr_dlq 540 float64\n",
            "percent_bc_gt_75 182 float64\n",
            "pub_rec_bankruptcies 10 float64\n",
            "tax_liens 24 float64\n",
            "tot_hi_cred_lim 213590 float64\n",
            "total_bal_ex_mort 121865 float64\n",
            "total_bc_limit 4912 float64\n",
            "total_il_high_credit_limit 109256 float64\n",
            "hardship_flag 3 object\n",
            "disbursement_method 2 object\n",
            "debt_settlement_flag 3 object\n"
          ]
        }
      ]
    },
    {
      "cell_type": "markdown",
      "source": [
        "* * * * *\n",
        "\n",
        "Analysis\n",
        "========\n",
        "\n",
        "* * * * *\n",
        "\n",
        "Loading the created master data for further anaysis"
      ],
      "metadata": {
        "id": "V3wh2Qc5b1Wn"
      },
      "id": "V3wh2Qc5b1Wn"
    },
    {
      "cell_type": "code",
      "source": [
        ""
      ],
      "metadata": {
        "id": "tLrk1O3-rxvj"
      },
      "id": "tLrk1O3-rxvj",
      "execution_count": null,
      "outputs": []
    },
    {
      "cell_type": "code",
      "source": [
        "ncleaned_a_data.loan_status.value_counts()"
      ],
      "metadata": {
        "colab": {
          "base_uri": "https://localhost:8080/"
        },
        "id": "ynAl2fJHb0_2",
        "outputId": "09165103-0684-4fc8-f199-d183eb885d76"
      },
      "id": "ynAl2fJHb0_2",
      "execution_count": 64,
      "outputs": [
        {
          "output_type": "execute_result",
          "data": {
            "text/plain": [
              "Fully Paid            253414\n",
              "Charged Off            64302\n",
              "Current                38054\n",
              "Late (31-120 days)      1227\n",
              "In Grace Period          546\n",
              "Late (16-30 days)        249\n",
              "Default                    1\n",
              "Name: loan_status, dtype: int64"
            ]
          },
          "metadata": {},
          "execution_count": 64
        }
      ]
    },
    {
      "cell_type": "code",
      "source": [
        "plt.figure(figsize=(25,10))\n",
        "ncleaned_a_data['loan_status'].hist()\n"
      ],
      "metadata": {
        "colab": {
          "base_uri": "https://localhost:8080/",
          "height": 629
        },
        "id": "fCjIsVfYeIZK",
        "outputId": "82b11ccf-ffab-4e8c-9e8d-ee946fb3fdf3"
      },
      "id": "fCjIsVfYeIZK",
      "execution_count": 82,
      "outputs": [
        {
          "output_type": "execute_result",
          "data": {
            "text/plain": [
              "<matplotlib.axes._subplots.AxesSubplot at 0x7fc47d8b3650>"
            ]
          },
          "metadata": {},
          "execution_count": 82
        },
        {
          "output_type": "display_data",
          "data": {
            "image/png": "[encoded data removed]",
            "text/plain": [
              "<Figure size 1800x720 with 1 Axes>"
            ]
          },
          "metadata": {
            "needs_background": "light"
          }
        }
      ]
    },
    {
      "cell_type": "markdown",
      "source": [
        "### Let us see graphs of some other important variables\n",
        "\n",
        "#### Variable: loan_amnt\n",
        "\n",
        "Data_Dictionary: The listed amount of the loan applied for by the borrower. If at some point in time, the credit department reduces the loan amount, then it will be reflected in this value."
      ],
      "metadata": {
        "id": "gncsPUz7hRBU"
      },
      "id": "gncsPUz7hRBU"
    },
    {
      "cell_type": "code",
      "source": [
        "boxplot_distributionplot(ncleaned_a_data, 'loan_amnt')"
      ],
      "metadata": {
        "colab": {
          "base_uri": "https://localhost:8080/",
          "height": 434
        },
        "id": "7pdU0JNKhPnf",
        "outputId": "bf995776-8cab-49f4-bc84-08c1e2fbe107"
      },
      "id": "7pdU0JNKhPnf",
      "execution_count": 92,
      "outputs": [
        {
          "output_type": "display_data",
          "data": {
            "image/png": "[encoded data removed]",
            "text/plain": [
              "<Figure size 1800x720 with 2 Axes>"
            ]
          },
          "metadata": {
            "needs_background": "light"
          }
        }
      ]
    },
    {
      "cell_type": "code",
      "source": [
        "boxplot_distributionplot(ncleaned_a_data, 'annual_inc')"
      ],
      "metadata": {
        "colab": {
          "base_uri": "https://localhost:8080/",
          "height": 626
        },
        "id": "MCoxWvCLtHt1",
        "outputId": "d7f68bdd-0bcb-43d8-fa0e-95d837102e49"
      },
      "id": "MCoxWvCLtHt1",
      "execution_count": 131,
      "outputs": [
        {
          "output_type": "display_data",
          "data": {
            "image/png": "[encoded data removed]",
            "text/plain": [
              "<Figure size 1800x720 with 2 Axes>"
            ]
          },
          "metadata": {
            "needs_background": "light"
          }
        }
      ]
    },
    {
      "cell_type": "markdown",
      "source": [
        ""
      ],
      "metadata": {
        "id": "q-zYvzxQvDES"
      },
      "id": "q-zYvzxQvDES"
    },
    {
      "cell_type": "code",
      "source": [
        "plt.figure(figsize=(10,5))\n",
        "sns.countplot(ncleaned_a_data['sub_grade'], order=sorted(ncleaned_a_data.sub_grade.unique()))\n",
        "plt.show()"
      ],
      "metadata": {
        "colab": {
          "base_uri": "https://localhost:8080/",
          "height": 390
        },
        "id": "pKioZxoorufi",
        "outputId": "f8273923-fb0c-4e26-8b9d-eca4bedb054d"
      },
      "id": "pKioZxoorufi",
      "execution_count": 136,
      "outputs": [
        {
          "output_type": "stream",
          "name": "stderr",
          "text": [
            "/usr/local/lib/python3.7/dist-packages/seaborn/_decorators.py:43: FutureWarning: Pass the following variable as a keyword arg: x. From version 0.12, the only valid positional argument will be `data`, and passing other arguments without an explicit keyword will result in an error or misinterpretation.\n",
            "  FutureWarning\n"
          ]
        },
        {
          "output_type": "display_data",
          "data": {
            "image/png": "[encoded data removed]",
            "text/plain": [
              "<Figure size 720x360 with 1 Axes>"
            ]
          },
          "metadata": {
            "needs_background": "light"
          }
        }
      ]
    },
    {
      "cell_type": "markdown",
      "source": [
        "Reference :https://github.com/akshayr89/Lending-Club---Exploratory-Data-Analysis/blob/master/AkshayRohankar_LendingClub.ipynb"
      ],
      "metadata": {
        "id": "zLb4fEDYuo9b"
      },
      "id": "zLb4fEDYuo9b"
    },
    {
      "cell_type": "markdown",
      "source": [
        ""
      ],
      "metadata": {
        "id": "EIzX_vFLuuqZ"
      },
      "id": "EIzX_vFLuuqZ"
    }
  ],
  "metadata": {
    "colab": {
      "collapsed_sections": [],
      "name": "LendingClub.ipynb",
      "provenance": [],
      "include_colab_link": true
    },
    "kernelspec": {
      "display_name": "Python 3",
      "language": "python",
      "name": "python3"
    },
    "language_info": {
      "codemirror_mode": {
        "name": "ipython",
        "version": 3
      },
      "file_extension": ".py",
      "mimetype": "text/x-python",
      "name": "python",
      "nbconvert_exporter": "python",
      "pygments_lexer": "ipython3",
      "version": "3.8.8"
    }
  },
  "nbformat": 4,
  "nbformat_minor": 5
}